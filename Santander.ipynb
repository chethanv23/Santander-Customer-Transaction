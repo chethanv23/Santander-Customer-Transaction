{
 "cells": [
  {
   "cell_type": "markdown",
   "metadata": {},
   "source": [
    "# Santander-customer-transaction-classification-problem"
   ]
  },
  {
   "cell_type": "markdown",
   "metadata": {},
   "source": [
    " In this project, I have addressed Santander customer transaction classification problem, The aim of the project is to identify which customers will make a specific transaction in the future, irrespective of the amount of money transacted."
   ]
  },
  {
   "cell_type": "code",
   "execution_count": 40,
   "metadata": {},
   "outputs": [],
   "source": [
    "# loading Libraries\n",
    "\n",
    "import pandas as pd\n",
    "import numpy as np\n",
    "import matplotlib.pyplot as plt\n",
    "import seaborn as sns\n",
    "import math\n",
    "import os\n",
    "\n",
    "from sklearn.neighbors import KNeighborsClassifier\n",
    "from mlxtend.feature_selection import ExhaustiveFeatureSelector as EFS\n",
    "from sklearn.preprocessing import StandardScaler\n",
    "from sklearn.decomposition import PCA\n",
    "from sklearn.model_selection import train_test_split\n",
    "from sklearn.metrics import roc_curve, auc\n",
    "from sklearn.metrics import classification_report\n",
    "from sklearn.preprocessing import binarize\n",
    "from sklearn import metrics\n",
    "from sklearn.metrics import precision_score ,recall_score\n"
   ]
  },
  {
   "cell_type": "markdown",
   "metadata": {},
   "source": [
    "Setting Working directory"
   ]
  },
  {
   "cell_type": "code",
   "execution_count": 2,
   "metadata": {},
   "outputs": [],
   "source": [
    "os.chdir(\"C:\\\\Users\\\\kumarvch\\\\Desktop\\\\Data_aNALYSIS\\\\ds Project\\\\santander Prject\")"
   ]
  },
  {
   "cell_type": "markdown",
   "metadata": {},
   "source": [
    "Reducing Menory:\n",
    "    \n",
    "    Since the dataset contains 0.2Million sample and 200 observations. the file size will be very high.\n",
    "    we can reduce the unwanted memory used by the data, By optimizing the memory allocation"
   ]
  },
  {
   "cell_type": "code",
   "execution_count": 3,
   "metadata": {},
   "outputs": [],
   "source": [
    "def reduce_mem_usage(df):\n",
    "    \"\"\" iterate through all the columns of a dataframe and modify the data type\n",
    "        to reduce memory usage.\n",
    "    \"\"\"\n",
    "    start_mem = df.memory_usage().sum() / 1024 ** 2\n",
    "    print('Memory usage of dataframe is {:.2f} MB'.format(start_mem))\n",
    "\n",
    "    for col in df.columns:\n",
    "        col_type = df[col].dtype\n",
    "\n",
    "        if col_type != object:\n",
    "            c_min = df[col].min()\n",
    "            c_max = df[col].max()\n",
    "            if str(col_type)[:3] == 'int':\n",
    "                if c_min > np.iinfo(np.int8).min and c_max < np.iinfo(np.int8).max:\n",
    "                    df[col] = df[col].astype(np.int8)\n",
    "                elif c_min > np.iinfo(np.int16).min and c_max < np.iinfo(np.int16).max:\n",
    "                    df[col] = df[col].astype(np.int16)\n",
    "                elif c_min > np.iinfo(np.int32).min and c_max < np.iinfo(np.int32).max:\n",
    "                    df[col] = df[col].astype(np.int32)\n",
    "                elif c_min > np.iinfo(np.int64).min and c_max < np.iinfo(np.int64).max:\n",
    "                    df[col] = df[col].astype(np.int64)\n",
    "            else:\n",
    "                if c_min > np.finfo(np.float16).min and c_max < np.finfo(np.float16).max:\n",
    "                    df[col] = df[col].astype(np.float16)\n",
    "                elif c_min > np.finfo(np.float32).min and c_max < np.finfo(np.float32).max:\n",
    "                    df[col] = df[col].astype(np.float32)\n",
    "                else:\n",
    "                    df[col] = df[col].astype(np.float64)\n",
    "        else:\n",
    "            df[col] = df[col].astype('category')\n",
    "\n",
    "    end_mem = df.memory_usage().sum() / 1024 ** 2\n",
    "    print('Memory usage after optimization is: {:.2f} MB'.format(end_mem))\n",
    "    print('Decreased by {:.1f}%'.format(100 * (start_mem - end_mem) / start_mem))\n",
    "\n",
    "    return df\n",
    "\n",
    "def import_data(file):\n",
    "    \"\"\"create a dataframe and optimize its memory usage\"\"\"\n",
    "    df = pd.read_csv(file, parse_dates=True, keep_date_col=True)\n",
    "    df = reduce_mem_usage(df)\n",
    "    return df"
   ]
  },
  {
   "cell_type": "code",
   "execution_count": 74,
   "metadata": {},
   "outputs": [
    {
     "data": {
      "text/plain": [
       "-128"
      ]
     },
     "execution_count": 74,
     "metadata": {},
     "output_type": "execute_result"
    }
   ],
   "source": [
    "np.iinfo(np.int8).min"
   ]
  },
  {
   "cell_type": "code",
   "execution_count": 4,
   "metadata": {},
   "outputs": [
    {
     "name": "stdout",
     "output_type": "stream",
     "text": [
      "Memory usage of dataframe is 308.23 MB\n",
      "Memory usage after optimization is: 83.77 MB\n",
      "Decreased by 72.8%\n"
     ]
    }
   ],
   "source": [
    "train = import_data(\"C:\\\\Users\\\\kumarvch\\\\Desktop\\\\Data_aNALYSIS\\\\ds Project\\\\santander Prject\\\\train.csv\")"
   ]
  },
  {
   "cell_type": "code",
   "execution_count": 5,
   "metadata": {},
   "outputs": [
    {
     "name": "stdout",
     "output_type": "stream",
     "text": [
      "Memory usage of dataframe is 306.70 MB\n",
      "Memory usage after optimization is: 83.58 MB\n",
      "Decreased by 72.7%\n"
     ]
    }
   ],
   "source": [
    "test= import_data(\"C:\\\\Users\\\\kumarvch\\\\Desktop\\\\Data_aNALYSIS\\\\ds Project\\\\santander Prject\\\\test(1).csv\")"
   ]
  },
  {
   "cell_type": "code",
   "execution_count": 6,
   "metadata": {},
   "outputs": [
    {
     "name": "stdout",
     "output_type": "stream",
     "text": [
      "(200000, 202) (200000, 201)\n"
     ]
    }
   ],
   "source": [
    "print(train.shape , test.shape)"
   ]
  },
  {
   "cell_type": "markdown",
   "metadata": {},
   "source": [
    "# Missing Value Aanalysis"
   ]
  },
  {
   "cell_type": "code",
   "execution_count": 7,
   "metadata": {},
   "outputs": [],
   "source": [
    "missing_data_train = pd.DataFrame(train.isnull().sum())\n",
    "missing_data_test = pd.DataFrame(test.isnull().sum())"
   ]
  },
  {
   "cell_type": "code",
   "execution_count": 8,
   "metadata": {},
   "outputs": [
    {
     "name": "stdout",
     "output_type": "stream",
     "text": [
      "<class 'pandas.core.frame.DataFrame'>\n",
      "Index: 202 entries, ID_code to var_199\n",
      "Data columns (total 1 columns):\n",
      "0    202 non-null int64\n",
      "dtypes: int64(1)\n",
      "memory usage: 13.2+ KB\n"
     ]
    }
   ],
   "source": [
    "missing_data_train.info()"
   ]
  },
  {
   "cell_type": "code",
   "execution_count": 9,
   "metadata": {},
   "outputs": [
    {
     "name": "stdout",
     "output_type": "stream",
     "text": [
      "<class 'pandas.core.frame.DataFrame'>\n",
      "Index: 201 entries, ID_code to var_199\n",
      "Data columns (total 1 columns):\n",
      "0    201 non-null int64\n",
      "dtypes: int64(1)\n",
      "memory usage: 13.1+ KB\n"
     ]
    }
   ],
   "source": [
    "missing_data_test.info()"
   ]
  },
  {
   "cell_type": "markdown",
   "metadata": {},
   "source": [
    "*There are no missing Values in the dataset"
   ]
  },
  {
   "cell_type": "code",
   "execution_count": 10,
   "metadata": {},
   "outputs": [
    {
     "data": {
      "text/html": [
       "<div>\n",
       "<style scoped>\n",
       "    .dataframe tbody tr th:only-of-type {\n",
       "        vertical-align: middle;\n",
       "    }\n",
       "\n",
       "    .dataframe tbody tr th {\n",
       "        vertical-align: top;\n",
       "    }\n",
       "\n",
       "    .dataframe thead th {\n",
       "        text-align: right;\n",
       "    }\n",
       "</style>\n",
       "<table border=\"1\" class=\"dataframe\">\n",
       "  <thead>\n",
       "    <tr style=\"text-align: right;\">\n",
       "      <th></th>\n",
       "      <th>ID_code</th>\n",
       "      <th>target</th>\n",
       "      <th>var_0</th>\n",
       "      <th>var_1</th>\n",
       "      <th>var_2</th>\n",
       "      <th>var_3</th>\n",
       "      <th>var_4</th>\n",
       "      <th>var_5</th>\n",
       "      <th>var_6</th>\n",
       "      <th>var_7</th>\n",
       "      <th>...</th>\n",
       "      <th>var_190</th>\n",
       "      <th>var_191</th>\n",
       "      <th>var_192</th>\n",
       "      <th>var_193</th>\n",
       "      <th>var_194</th>\n",
       "      <th>var_195</th>\n",
       "      <th>var_196</th>\n",
       "      <th>var_197</th>\n",
       "      <th>var_198</th>\n",
       "      <th>var_199</th>\n",
       "    </tr>\n",
       "  </thead>\n",
       "  <tbody>\n",
       "    <tr>\n",
       "      <td>0</td>\n",
       "      <td>train_0</td>\n",
       "      <td>0</td>\n",
       "      <td>8.921875</td>\n",
       "      <td>-6.785156</td>\n",
       "      <td>11.906250</td>\n",
       "      <td>5.093750</td>\n",
       "      <td>11.460938</td>\n",
       "      <td>-9.281250</td>\n",
       "      <td>5.117188</td>\n",
       "      <td>18.625000</td>\n",
       "      <td>...</td>\n",
       "      <td>4.433594</td>\n",
       "      <td>3.964844</td>\n",
       "      <td>3.136719</td>\n",
       "      <td>1.691406</td>\n",
       "      <td>18.515625</td>\n",
       "      <td>-2.398438</td>\n",
       "      <td>7.878906</td>\n",
       "      <td>8.562500</td>\n",
       "      <td>12.781250</td>\n",
       "      <td>-1.091797</td>\n",
       "    </tr>\n",
       "    <tr>\n",
       "      <td>1</td>\n",
       "      <td>train_1</td>\n",
       "      <td>0</td>\n",
       "      <td>11.500000</td>\n",
       "      <td>-4.148438</td>\n",
       "      <td>13.859375</td>\n",
       "      <td>5.390625</td>\n",
       "      <td>12.359375</td>\n",
       "      <td>7.042969</td>\n",
       "      <td>5.621094</td>\n",
       "      <td>16.531250</td>\n",
       "      <td>...</td>\n",
       "      <td>7.640625</td>\n",
       "      <td>7.722656</td>\n",
       "      <td>2.583984</td>\n",
       "      <td>10.953125</td>\n",
       "      <td>15.429688</td>\n",
       "      <td>2.033203</td>\n",
       "      <td>8.125000</td>\n",
       "      <td>8.789062</td>\n",
       "      <td>18.359375</td>\n",
       "      <td>1.952148</td>\n",
       "    </tr>\n",
       "    <tr>\n",
       "      <td>2</td>\n",
       "      <td>train_2</td>\n",
       "      <td>0</td>\n",
       "      <td>8.609375</td>\n",
       "      <td>-2.746094</td>\n",
       "      <td>12.078125</td>\n",
       "      <td>7.894531</td>\n",
       "      <td>10.585938</td>\n",
       "      <td>-9.085938</td>\n",
       "      <td>6.941406</td>\n",
       "      <td>14.617188</td>\n",
       "      <td>...</td>\n",
       "      <td>2.906250</td>\n",
       "      <td>9.789062</td>\n",
       "      <td>1.669922</td>\n",
       "      <td>1.685547</td>\n",
       "      <td>21.609375</td>\n",
       "      <td>3.142578</td>\n",
       "      <td>-6.519531</td>\n",
       "      <td>8.265625</td>\n",
       "      <td>14.718750</td>\n",
       "      <td>0.396484</td>\n",
       "    </tr>\n",
       "    <tr>\n",
       "      <td>3</td>\n",
       "      <td>train_3</td>\n",
       "      <td>0</td>\n",
       "      <td>11.062500</td>\n",
       "      <td>-2.152344</td>\n",
       "      <td>8.953125</td>\n",
       "      <td>7.195312</td>\n",
       "      <td>12.585938</td>\n",
       "      <td>-1.835938</td>\n",
       "      <td>5.843750</td>\n",
       "      <td>14.921875</td>\n",
       "      <td>...</td>\n",
       "      <td>4.464844</td>\n",
       "      <td>4.742188</td>\n",
       "      <td>0.717773</td>\n",
       "      <td>1.421875</td>\n",
       "      <td>23.031250</td>\n",
       "      <td>-1.270508</td>\n",
       "      <td>-2.927734</td>\n",
       "      <td>10.289062</td>\n",
       "      <td>17.968750</td>\n",
       "      <td>-9.000000</td>\n",
       "    </tr>\n",
       "    <tr>\n",
       "      <td>4</td>\n",
       "      <td>train_4</td>\n",
       "      <td>0</td>\n",
       "      <td>9.835938</td>\n",
       "      <td>-1.483398</td>\n",
       "      <td>12.875000</td>\n",
       "      <td>6.636719</td>\n",
       "      <td>12.273438</td>\n",
       "      <td>2.449219</td>\n",
       "      <td>5.941406</td>\n",
       "      <td>19.250000</td>\n",
       "      <td>...</td>\n",
       "      <td>-1.490234</td>\n",
       "      <td>9.523438</td>\n",
       "      <td>-0.150757</td>\n",
       "      <td>9.195312</td>\n",
       "      <td>13.289062</td>\n",
       "      <td>-1.511719</td>\n",
       "      <td>3.925781</td>\n",
       "      <td>9.500000</td>\n",
       "      <td>18.000000</td>\n",
       "      <td>-8.812500</td>\n",
       "    </tr>\n",
       "    <tr>\n",
       "      <td>...</td>\n",
       "      <td>...</td>\n",
       "      <td>...</td>\n",
       "      <td>...</td>\n",
       "      <td>...</td>\n",
       "      <td>...</td>\n",
       "      <td>...</td>\n",
       "      <td>...</td>\n",
       "      <td>...</td>\n",
       "      <td>...</td>\n",
       "      <td>...</td>\n",
       "      <td>...</td>\n",
       "      <td>...</td>\n",
       "      <td>...</td>\n",
       "      <td>...</td>\n",
       "      <td>...</td>\n",
       "      <td>...</td>\n",
       "      <td>...</td>\n",
       "      <td>...</td>\n",
       "      <td>...</td>\n",
       "      <td>...</td>\n",
       "      <td>...</td>\n",
       "    </tr>\n",
       "    <tr>\n",
       "      <td>199995</td>\n",
       "      <td>train_199995</td>\n",
       "      <td>0</td>\n",
       "      <td>11.484375</td>\n",
       "      <td>-0.495605</td>\n",
       "      <td>8.265625</td>\n",
       "      <td>3.513672</td>\n",
       "      <td>10.343750</td>\n",
       "      <td>11.609375</td>\n",
       "      <td>5.671875</td>\n",
       "      <td>15.148438</td>\n",
       "      <td>...</td>\n",
       "      <td>6.140625</td>\n",
       "      <td>13.234375</td>\n",
       "      <td>3.990234</td>\n",
       "      <td>0.938965</td>\n",
       "      <td>18.031250</td>\n",
       "      <td>-1.793945</td>\n",
       "      <td>2.166016</td>\n",
       "      <td>8.531250</td>\n",
       "      <td>16.671875</td>\n",
       "      <td>-17.859375</td>\n",
       "    </tr>\n",
       "    <tr>\n",
       "      <td>199996</td>\n",
       "      <td>train_199996</td>\n",
       "      <td>0</td>\n",
       "      <td>4.914062</td>\n",
       "      <td>-2.449219</td>\n",
       "      <td>16.703125</td>\n",
       "      <td>6.632812</td>\n",
       "      <td>8.312500</td>\n",
       "      <td>-10.562500</td>\n",
       "      <td>5.878906</td>\n",
       "      <td>21.593750</td>\n",
       "      <td>...</td>\n",
       "      <td>4.960938</td>\n",
       "      <td>4.656250</td>\n",
       "      <td>0.699707</td>\n",
       "      <td>1.833984</td>\n",
       "      <td>22.265625</td>\n",
       "      <td>1.733398</td>\n",
       "      <td>-2.166016</td>\n",
       "      <td>6.742188</td>\n",
       "      <td>15.906250</td>\n",
       "      <td>0.338867</td>\n",
       "    </tr>\n",
       "    <tr>\n",
       "      <td>199997</td>\n",
       "      <td>train_199997</td>\n",
       "      <td>0</td>\n",
       "      <td>11.226562</td>\n",
       "      <td>-5.050781</td>\n",
       "      <td>10.515625</td>\n",
       "      <td>5.644531</td>\n",
       "      <td>9.343750</td>\n",
       "      <td>-5.410156</td>\n",
       "      <td>4.554688</td>\n",
       "      <td>21.562500</td>\n",
       "      <td>...</td>\n",
       "      <td>4.066406</td>\n",
       "      <td>5.441406</td>\n",
       "      <td>3.103516</td>\n",
       "      <td>4.878906</td>\n",
       "      <td>23.531250</td>\n",
       "      <td>-1.573242</td>\n",
       "      <td>1.283203</td>\n",
       "      <td>8.718750</td>\n",
       "      <td>13.835938</td>\n",
       "      <td>4.199219</td>\n",
       "    </tr>\n",
       "    <tr>\n",
       "      <td>199998</td>\n",
       "      <td>train_199998</td>\n",
       "      <td>0</td>\n",
       "      <td>9.710938</td>\n",
       "      <td>-8.609375</td>\n",
       "      <td>13.609375</td>\n",
       "      <td>5.792969</td>\n",
       "      <td>12.515625</td>\n",
       "      <td>0.533691</td>\n",
       "      <td>6.046875</td>\n",
       "      <td>17.015625</td>\n",
       "      <td>...</td>\n",
       "      <td>2.683594</td>\n",
       "      <td>8.656250</td>\n",
       "      <td>2.734375</td>\n",
       "      <td>11.117188</td>\n",
       "      <td>20.421875</td>\n",
       "      <td>-0.078613</td>\n",
       "      <td>6.796875</td>\n",
       "      <td>10.031250</td>\n",
       "      <td>15.531250</td>\n",
       "      <td>-13.898438</td>\n",
       "    </tr>\n",
       "    <tr>\n",
       "      <td>199999</td>\n",
       "      <td>train_199999</td>\n",
       "      <td>0</td>\n",
       "      <td>10.875000</td>\n",
       "      <td>-5.710938</td>\n",
       "      <td>12.117188</td>\n",
       "      <td>8.031250</td>\n",
       "      <td>11.554688</td>\n",
       "      <td>0.348877</td>\n",
       "      <td>5.285156</td>\n",
       "      <td>15.203125</td>\n",
       "      <td>...</td>\n",
       "      <td>8.984375</td>\n",
       "      <td>1.689453</td>\n",
       "      <td>0.127563</td>\n",
       "      <td>0.376709</td>\n",
       "      <td>15.210938</td>\n",
       "      <td>-2.490234</td>\n",
       "      <td>-2.234375</td>\n",
       "      <td>8.187500</td>\n",
       "      <td>12.125000</td>\n",
       "      <td>0.138550</td>\n",
       "    </tr>\n",
       "  </tbody>\n",
       "</table>\n",
       "<p>200000 rows × 202 columns</p>\n",
       "</div>"
      ],
      "text/plain": [
       "             ID_code  target      var_0     var_1      var_2     var_3  \\\n",
       "0            train_0       0   8.921875 -6.785156  11.906250  5.093750   \n",
       "1            train_1       0  11.500000 -4.148438  13.859375  5.390625   \n",
       "2            train_2       0   8.609375 -2.746094  12.078125  7.894531   \n",
       "3            train_3       0  11.062500 -2.152344   8.953125  7.195312   \n",
       "4            train_4       0   9.835938 -1.483398  12.875000  6.636719   \n",
       "...              ...     ...        ...       ...        ...       ...   \n",
       "199995  train_199995       0  11.484375 -0.495605   8.265625  3.513672   \n",
       "199996  train_199996       0   4.914062 -2.449219  16.703125  6.632812   \n",
       "199997  train_199997       0  11.226562 -5.050781  10.515625  5.644531   \n",
       "199998  train_199998       0   9.710938 -8.609375  13.609375  5.792969   \n",
       "199999  train_199999       0  10.875000 -5.710938  12.117188  8.031250   \n",
       "\n",
       "            var_4      var_5     var_6      var_7  ...   var_190    var_191  \\\n",
       "0       11.460938  -9.281250  5.117188  18.625000  ...  4.433594   3.964844   \n",
       "1       12.359375   7.042969  5.621094  16.531250  ...  7.640625   7.722656   \n",
       "2       10.585938  -9.085938  6.941406  14.617188  ...  2.906250   9.789062   \n",
       "3       12.585938  -1.835938  5.843750  14.921875  ...  4.464844   4.742188   \n",
       "4       12.273438   2.449219  5.941406  19.250000  ... -1.490234   9.523438   \n",
       "...           ...        ...       ...        ...  ...       ...        ...   \n",
       "199995  10.343750  11.609375  5.671875  15.148438  ...  6.140625  13.234375   \n",
       "199996   8.312500 -10.562500  5.878906  21.593750  ...  4.960938   4.656250   \n",
       "199997   9.343750  -5.410156  4.554688  21.562500  ...  4.066406   5.441406   \n",
       "199998  12.515625   0.533691  6.046875  17.015625  ...  2.683594   8.656250   \n",
       "199999  11.554688   0.348877  5.285156  15.203125  ...  8.984375   1.689453   \n",
       "\n",
       "         var_192    var_193    var_194   var_195   var_196    var_197  \\\n",
       "0       3.136719   1.691406  18.515625 -2.398438  7.878906   8.562500   \n",
       "1       2.583984  10.953125  15.429688  2.033203  8.125000   8.789062   \n",
       "2       1.669922   1.685547  21.609375  3.142578 -6.519531   8.265625   \n",
       "3       0.717773   1.421875  23.031250 -1.270508 -2.927734  10.289062   \n",
       "4      -0.150757   9.195312  13.289062 -1.511719  3.925781   9.500000   \n",
       "...          ...        ...        ...       ...       ...        ...   \n",
       "199995  3.990234   0.938965  18.031250 -1.793945  2.166016   8.531250   \n",
       "199996  0.699707   1.833984  22.265625  1.733398 -2.166016   6.742188   \n",
       "199997  3.103516   4.878906  23.531250 -1.573242  1.283203   8.718750   \n",
       "199998  2.734375  11.117188  20.421875 -0.078613  6.796875  10.031250   \n",
       "199999  0.127563   0.376709  15.210938 -2.490234 -2.234375   8.187500   \n",
       "\n",
       "          var_198    var_199  \n",
       "0       12.781250  -1.091797  \n",
       "1       18.359375   1.952148  \n",
       "2       14.718750   0.396484  \n",
       "3       17.968750  -9.000000  \n",
       "4       18.000000  -8.812500  \n",
       "...           ...        ...  \n",
       "199995  16.671875 -17.859375  \n",
       "199996  15.906250   0.338867  \n",
       "199997  13.835938   4.199219  \n",
       "199998  15.531250 -13.898438  \n",
       "199999  12.125000   0.138550  \n",
       "\n",
       "[200000 rows x 202 columns]"
      ]
     },
     "execution_count": 10,
     "metadata": {},
     "output_type": "execute_result"
    }
   ],
   "source": [
    "train"
   ]
  },
  {
   "cell_type": "code",
   "execution_count": 11,
   "metadata": {},
   "outputs": [],
   "source": [
    "#test.drop(['ID_code'] , axis=1)\n",
    "train1 = train.drop(['ID_code'], axis=1)\n",
    "train1 = train.drop(['target'] , axis=1)\n",
    "test1 = test.drop(['ID_code'] , axis =1)"
   ]
  },
  {
   "cell_type": "markdown",
   "metadata": {},
   "source": [
    "# Outlier Analysis"
   ]
  },
  {
   "cell_type": "code",
   "execution_count": 12,
   "metadata": {},
   "outputs": [],
   "source": [
    "def Outliers(cnames , DF):\n",
    "    for i in cnames:\n",
    "        q25 , q75 = np.percentile(DF[i] , [25,75])\n",
    "        iqr = q75-q25\n",
    "        Min = q25-(1.5*iqr)\n",
    "        Max = q75+(1.5*iqr)\n",
    "        DF.loc[DF[i] <Min, :i] = np.nan\n",
    "        DF.loc[DF[i] >Max, :i] = np.nan\n",
    "    \n",
    "    missing_data = pd.DataFrame(DF.isnull().sum())\n",
    "    missing_data = missing_data.rename(columns = {0 :'percentage'})\n",
    "    missing_data = missing_data['percentage']/len(DF)\n",
    "    return missing_data\n",
    "    "
   ]
  },
  {
   "cell_type": "code",
   "execution_count": 26,
   "metadata": {},
   "outputs": [],
   "source": [
    "cnames_Train =[feature for feature in train.columns if feature != 'ID_code']\n",
    "cnames_Test =[feature for feature in test.columns if feature != 'ID_code' ]"
   ]
  },
  {
   "cell_type": "code",
   "execution_count": 28,
   "metadata": {},
   "outputs": [],
   "source": [
    "cnames_Train.remove('target')"
   ]
  },
  {
   "cell_type": "code",
   "execution_count": 30,
   "metadata": {
    "scrolled": true
   },
   "outputs": [
    {
     "data": {
      "text/plain": [
       "ID_code    0.134760\n",
       "var_0      0.134760\n",
       "var_1      0.134335\n",
       "var_2      0.134305\n",
       "var_3      0.134155\n",
       "             ...   \n",
       "var_195    0.001475\n",
       "var_196    0.000815\n",
       "var_197    0.000815\n",
       "var_198    0.000570\n",
       "var_199    0.000100\n",
       "Name: percentage, Length: 201, dtype: float64"
      ]
     },
     "execution_count": 30,
     "metadata": {},
     "output_type": "execute_result"
    }
   ],
   "source": [
    "Outliers(cnames_Train , train1)"
   ]
  },
  {
   "cell_type": "code",
   "execution_count": 31,
   "metadata": {
    "scrolled": false
   },
   "outputs": [
    {
     "data": {
      "text/plain": [
       "var_0      0.137515\n",
       "var_1      0.137025\n",
       "var_2      0.137010\n",
       "var_3      0.136775\n",
       "var_4      0.136720\n",
       "             ...   \n",
       "var_195    0.001390\n",
       "var_196    0.000875\n",
       "var_197    0.000875\n",
       "var_198    0.000620\n",
       "var_199    0.000060\n",
       "Name: percentage, Length: 200, dtype: float64"
      ]
     },
     "execution_count": 31,
     "metadata": {},
     "output_type": "execute_result"
    }
   ],
   "source": [
    "Outliers(cnames_Test , test1)"
   ]
  },
  {
   "cell_type": "markdown",
   "metadata": {},
   "source": [
    "We found outliers and we replaced the outliers with Null values and imputed null values with median"
   ]
  },
  {
   "cell_type": "code",
   "execution_count": 32,
   "metadata": {},
   "outputs": [],
   "source": [
    "train1 = train1.fillna(train1.median())"
   ]
  },
  {
   "cell_type": "code",
   "execution_count": 33,
   "metadata": {},
   "outputs": [],
   "source": [
    "test1= test1.fillna(test.median())"
   ]
  },
  {
   "cell_type": "code",
   "execution_count": 34,
   "metadata": {},
   "outputs": [],
   "source": [
    "Train = pd.concat([train['target'] , train1] , axis =1)"
   ]
  },
  {
   "cell_type": "markdown",
   "metadata": {},
   "source": [
    "# Exploratory Data analysis"
   ]
  },
  {
   "cell_type": "code",
   "execution_count": 35,
   "metadata": {},
   "outputs": [],
   "source": [
    "Test = pd.concat([test['ID_code'] , test1] , axis =1)"
   ]
  },
  {
   "cell_type": "markdown",
   "metadata": {},
   "source": [
    "Target Distribution"
   ]
  },
  {
   "cell_type": "code",
   "execution_count": 36,
   "metadata": {},
   "outputs": [
    {
     "data": {
      "text/plain": [
       "<matplotlib.axes._subplots.AxesSubplot at 0x1ff27cc6148>"
      ]
     },
     "execution_count": 36,
     "metadata": {},
     "output_type": "execute_result"
    },
    {
     "data": {
      "image/png": "[encoded data removed]",
      "text/plain": [
       "<Figure size 432x288 with 1 Axes>"
      ]
     },
     "metadata": {
      "needs_background": "light"
     },
     "output_type": "display_data"
    }
   ],
   "source": [
    "sns.countplot(train.target.values)"
   ]
  },
  {
   "cell_type": "code",
   "execution_count": 37,
   "metadata": {
    "scrolled": true
   },
   "outputs": [
    {
     "data": {
      "text/plain": [
       "0    0.89951\n",
       "1    0.10049\n",
       "Name: target, dtype: float64"
      ]
     },
     "execution_count": 37,
     "metadata": {},
     "output_type": "execute_result"
    }
   ],
   "source": [
    "Train['target'].value_counts(normalize=True)"
   ]
  },
  {
   "cell_type": "code",
   "execution_count": null,
   "metadata": {},
   "outputs": [],
   "source": [
    "We can clearly see that we are dealing with an imbalanced data set."
   ]
  },
  {
   "cell_type": "markdown",
   "metadata": {},
   "source": [
    "Comparing the destribution of Features"
   ]
  },
  {
   "cell_type": "code",
   "execution_count": 41,
   "metadata": {},
   "outputs": [],
   "source": [
    "def plot_and_compare(data, num):\n",
    "    print('Distributions of first {} columns'.format(num))\n",
    "    plt.figure(figsize=(26, 24))\n",
    "    for i, col in enumerate(list(data.columns)[2:num + 2]):\n",
    "        plt.subplot(math.ceil(num/4), 4, i + 1)\n",
    "        plt.hist(data[col])\n",
    "        plt.title(col)\n",
    "    plt.show()"
   ]
  },
  {
   "cell_type": "code",
   "execution_count": 42,
   "metadata": {},
   "outputs": [
    {
     "name": "stdout",
     "output_type": "stream",
     "text": [
      "Distributions of first 10 columns\n"
     ]
    },
    {
     "data": {
      "image/png": "[encoded data removed]",
      "text/plain": [
       "<Figure size 1872x1728 with 10 Axes>"
      ]
     },
     "metadata": {
      "needs_background": "light"
     },
     "output_type": "display_data"
    }
   ],
   "source": [
    "plot_and_compare(Train, 10)"
   ]
  },
  {
   "cell_type": "markdown",
   "metadata": {},
   "source": [
    "# We can see that first 10 features have almost Normal Distribution"
   ]
  },
  {
   "cell_type": "code",
   "execution_count": 43,
   "metadata": {
    "scrolled": false
   },
   "outputs": [
    {
     "name": "stdout",
     "output_type": "stream",
     "text": [
      "Distributions of first 60 columns\n"
     ]
    },
    {
     "data": {
      "image/png": "[encoded data removed]",
      "text/plain": [
       "<Figure size 1872x1728 with 60 Axes>"
      ]
     },
     "metadata": {
      "needs_background": "light"
     },
     "output_type": "display_data"
    }
   ],
   "source": [
    "plot_and_compare(Train,60)"
   ]
  },
  {
   "cell_type": "markdown",
   "metadata": {},
   "source": [
    "Not only they are normally distributed almost all the features have almost same distribution with same scales."
   ]
  },
  {
   "cell_type": "markdown",
   "metadata": {},
   "source": [
    "# Feature Selection"
   ]
  },
  {
   "cell_type": "code",
   "execution_count": 44,
   "metadata": {},
   "outputs": [],
   "source": [
    "# def plot_corr(data):\n",
    "#     data_correlation = data.corr()\n",
    "#     f, ax = plt.subplots(figsize=(25, 25))\n",
    "#     sns.heatmap(data_correlation,\n",
    "#                 xticklabels=data_correlation.columns.values,\n",
    "#                 yticklabels=data_correlation.columns.values, annot=True)\n",
    "#     plt.show()"
   ]
  },
  {
   "cell_type": "code",
   "execution_count": null,
   "metadata": {},
   "outputs": [],
   "source": [
    "# plot_corr(Train)"
   ]
  },
  {
   "cell_type": "markdown",
   "metadata": {},
   "source": [
    "#We cannot make a decision of correlation by looking at the heat map and also Corr funtion is taking lot of time in loading the heat map."
   ]
  },
  {
   "cell_type": "markdown",
   "metadata": {},
   "source": [
    "Lets try Feature selection using Exhaustive Feture selection"
   ]
  },
  {
   "cell_type": "markdown",
   "metadata": {},
   "source": [
    "# Exhaustive Feture selection"
   ]
  },
  {
   "cell_type": "code",
   "execution_count": null,
   "metadata": {},
   "outputs": [],
   "source": [
    "# from sklearn.neighbors import KNeighborsClassifier\n",
    "# from mlxtend.feature_selection import ExhaustiveFeatureSelector as EFS\n",
    "\n",
    "# X =train.drop(['target'], axis = 1)\n",
    "# y =train.target\n",
    "\n",
    "# knn = KNeighborsClassifier(n_neighbors=3)\n",
    "\n",
    "# efs1 = EFS(knn, \n",
    "#            min_features=1,\n",
    "#            max_features=4,\n",
    "#            scoring='accuracy',\n",
    "#            print_progress=True,\n",
    "#            cv=2)\n",
    "\n",
    "# efs1 = efs1.fit(X, y)\n",
    "\n",
    "# print('Best accuracy score: %.2f' % efs1.best_score_)\n",
    "# print('Best subset (indices):', efs1.best_idx_)\n",
    "# print('Best subset (corresponding names):', efs1.best_feature_names_)"
   ]
  },
  {
   "cell_type": "markdown",
   "metadata": {},
   "source": [
    "ExhaustiveFeatureSelector is taking awfull lot of time as the number of records are 0.2 million\n",
    "\n",
    "Lets try PCA"
   ]
  },
  {
   "cell_type": "markdown",
   "metadata": {},
   "source": [
    "A vital part of using PCA in practice is the ability to estimate how many components are needed to describe the data. This can be determined by looking at the cumulative explained variance ratio as a function of the number of components:"
   ]
  },
  {
   "cell_type": "markdown",
   "metadata": {},
   "source": [
    "# Principal component Analysis(PCA)"
   ]
  },
  {
   "cell_type": "code",
   "execution_count": 46,
   "metadata": {},
   "outputs": [],
   "source": [
    "Train = Train.drop('ID_code' , axis = 1)"
   ]
  },
  {
   "cell_type": "code",
   "execution_count": 47,
   "metadata": {},
   "outputs": [],
   "source": [
    "from sklearn.preprocessing import StandardScaler\n",
    "from sklearn.decomposition import PCA"
   ]
  },
  {
   "cell_type": "code",
   "execution_count": 48,
   "metadata": {
    "scrolled": false
   },
   "outputs": [
    {
     "data": {
      "image/png": "[encoded data removed]",
      "text/plain": [
       "<Figure size 360x360 with 1 Axes>"
      ]
     },
     "metadata": {
      "needs_background": "light"
     },
     "output_type": "display_data"
    }
   ],
   "source": [
    "scaler = StandardScaler()\n",
    "Xtrain_scaled = scaler.fit_transform(Train)\n",
    "pca = PCA()\n",
    "Xtrain_transformed = pca.fit_transform(Xtrain_scaled)\n",
    "sum(pca.explained_variance_ratio_[1:200])\n",
    "var_ratio = np.cumsum(pca.explained_variance_ratio_)\n",
    "plt.figure(figsize=(5, 5))\n",
    "plt.plot(range(201), var_ratio, alpha=0.75)\n",
    "plt.ylabel('Explained variance ratio')\n",
    "plt.xlabel('Principal components')\n",
    "plt.title('Cumulative Explained variable ratio')\n",
    "plt.tight_layout()"
   ]
  },
  {
   "cell_type": "markdown",
   "metadata": {},
   "source": [
    "From the plot we can see that we need all 200 components to explain or to describe 100% of the data."
   ]
  },
  {
   "cell_type": "code",
   "execution_count": 49,
   "metadata": {},
   "outputs": [],
   "source": [
    "from sklearn.model_selection import train_test_split"
   ]
  },
  {
   "cell_type": "code",
   "execution_count": 50,
   "metadata": {},
   "outputs": [],
   "source": [
    "X = Train.drop(['target'] , axis=1)\n",
    "y = Train.target"
   ]
  },
  {
   "cell_type": "code",
   "execution_count": 51,
   "metadata": {},
   "outputs": [],
   "source": [
    "X_train , X_valid , y_train , y_valid = train_test_split(X , y ,test_size = 0.2 , random_state = 0)"
   ]
  },
  {
   "cell_type": "code",
   "execution_count": 52,
   "metadata": {},
   "outputs": [
    {
     "name": "stdout",
     "output_type": "stream",
     "text": [
      "Requirement already satisfied: lightgbm in c:\\users\\kumarvch\\appdata\\local\\continuum\\anaconda3\\lib\\site-packages (2.3.1)\n",
      "Requirement already satisfied: scikit-learn in c:\\users\\kumarvch\\appdata\\local\\continuum\\anaconda3\\lib\\site-packages (from lightgbm) (0.23.1)\n",
      "Requirement already satisfied: numpy in c:\\users\\kumarvch\\appdata\\local\\continuum\\anaconda3\\lib\\site-packages (from lightgbm) (1.16.5)\n",
      "Requirement already satisfied: scipy in c:\\users\\kumarvch\\appdata\\local\\continuum\\anaconda3\\lib\\site-packages (from lightgbm) (1.3.1)\n",
      "Requirement already satisfied: joblib>=0.11 in c:\\users\\kumarvch\\appdata\\local\\continuum\\anaconda3\\lib\\site-packages (from scikit-learn->lightgbm) (0.13.2)\n",
      "Requirement already satisfied: threadpoolctl>=2.0.0 in c:\\users\\kumarvch\\appdata\\local\\continuum\\anaconda3\\lib\\site-packages (from scikit-learn->lightgbm) (2.1.0)\n"
     ]
    }
   ],
   "source": [
    "!pip install lightgbm"
   ]
  },
  {
   "cell_type": "code",
   "execution_count": 53,
   "metadata": {},
   "outputs": [],
   "source": [
    "import lightgbm as lgb"
   ]
  },
  {
   "cell_type": "code",
   "execution_count": 54,
   "metadata": {},
   "outputs": [
    {
     "name": "stdout",
     "output_type": "stream",
     "text": [
      "[1]\tvalid_0's auc: 0.566519\n",
      "Training until validation scores don't improve for 100 rounds\n",
      "[2]\tvalid_0's auc: 0.606509\n",
      "[3]\tvalid_0's auc: 0.63673\n",
      "[4]\tvalid_0's auc: 0.655131\n",
      "[5]\tvalid_0's auc: 0.65753\n",
      "[6]\tvalid_0's auc: 0.672936\n",
      "[7]\tvalid_0's auc: 0.690714\n",
      "[8]\tvalid_0's auc: 0.69124\n",
      "[9]\tvalid_0's auc: 0.69532\n",
      "[10]\tvalid_0's auc: 0.696883\n",
      "[11]\tvalid_0's auc: 0.704885\n",
      "[12]\tvalid_0's auc: 0.705238\n",
      "[13]\tvalid_0's auc: 0.714889\n",
      "[14]\tvalid_0's auc: 0.717864\n",
      "[15]\tvalid_0's auc: 0.726894\n",
      "[16]\tvalid_0's auc: 0.737579\n",
      "[17]\tvalid_0's auc: 0.741182\n",
      "[18]\tvalid_0's auc: 0.743384\n",
      "[19]\tvalid_0's auc: 0.743979\n",
      "[20]\tvalid_0's auc: 0.743098\n",
      "[21]\tvalid_0's auc: 0.740122\n",
      "[22]\tvalid_0's auc: 0.750565\n",
      "[23]\tvalid_0's auc: 0.754281\n",
      "[24]\tvalid_0's auc: 0.752708\n",
      "[25]\tvalid_0's auc: 0.755742\n",
      "[26]\tvalid_0's auc: 0.758584\n",
      "[27]\tvalid_0's auc: 0.7572\n",
      "[28]\tvalid_0's auc: 0.756781\n",
      "[29]\tvalid_0's auc: 0.758955\n",
      "[30]\tvalid_0's auc: 0.76239\n",
      "[31]\tvalid_0's auc: 0.764259\n",
      "[32]\tvalid_0's auc: 0.767248\n",
      "[33]\tvalid_0's auc: 0.770296\n",
      "[34]\tvalid_0's auc: 0.769041\n",
      "[35]\tvalid_0's auc: 0.774971\n",
      "[36]\tvalid_0's auc: 0.776076\n",
      "[37]\tvalid_0's auc: 0.778487\n",
      "[38]\tvalid_0's auc: 0.77898\n",
      "[39]\tvalid_0's auc: 0.78099\n",
      "[40]\tvalid_0's auc: 0.779957\n",
      "[41]\tvalid_0's auc: 0.780938\n",
      "[42]\tvalid_0's auc: 0.782307\n",
      "[43]\tvalid_0's auc: 0.783882\n",
      "[44]\tvalid_0's auc: 0.785491\n",
      "[45]\tvalid_0's auc: 0.78901\n",
      "[46]\tvalid_0's auc: 0.790239\n",
      "[47]\tvalid_0's auc: 0.791686\n",
      "[48]\tvalid_0's auc: 0.79237\n",
      "[49]\tvalid_0's auc: 0.793599\n",
      "[50]\tvalid_0's auc: 0.796737\n",
      "[51]\tvalid_0's auc: 0.798449\n",
      "[52]\tvalid_0's auc: 0.800118\n",
      "[53]\tvalid_0's auc: 0.800749\n",
      "[54]\tvalid_0's auc: 0.80186\n",
      "[55]\tvalid_0's auc: 0.80266\n",
      "[56]\tvalid_0's auc: 0.804779\n",
      "[57]\tvalid_0's auc: 0.804222\n",
      "[58]\tvalid_0's auc: 0.804204\n",
      "[59]\tvalid_0's auc: 0.805598\n",
      "[60]\tvalid_0's auc: 0.805211\n",
      "[61]\tvalid_0's auc: 0.807565\n",
      "[62]\tvalid_0's auc: 0.807852\n",
      "[63]\tvalid_0's auc: 0.808025\n",
      "[64]\tvalid_0's auc: 0.809991\n",
      "[65]\tvalid_0's auc: 0.811493\n",
      "[66]\tvalid_0's auc: 0.81254\n",
      "[67]\tvalid_0's auc: 0.812375\n",
      "[68]\tvalid_0's auc: 0.81306\n",
      "[69]\tvalid_0's auc: 0.814121\n",
      "[70]\tvalid_0's auc: 0.815192\n",
      "[71]\tvalid_0's auc: 0.815596\n",
      "[72]\tvalid_0's auc: 0.816148\n",
      "[73]\tvalid_0's auc: 0.81584\n",
      "[74]\tvalid_0's auc: 0.817222\n",
      "[75]\tvalid_0's auc: 0.817844\n",
      "[76]\tvalid_0's auc: 0.81833\n",
      "[77]\tvalid_0's auc: 0.818547\n",
      "[78]\tvalid_0's auc: 0.819417\n",
      "[79]\tvalid_0's auc: 0.818975\n",
      "[80]\tvalid_0's auc: 0.819922\n",
      "[81]\tvalid_0's auc: 0.820517\n",
      "[82]\tvalid_0's auc: 0.821941\n",
      "[83]\tvalid_0's auc: 0.822212\n",
      "[84]\tvalid_0's auc: 0.822961\n",
      "[85]\tvalid_0's auc: 0.823605\n",
      "[86]\tvalid_0's auc: 0.824163\n",
      "[87]\tvalid_0's auc: 0.82407\n",
      "[88]\tvalid_0's auc: 0.825052\n",
      "[89]\tvalid_0's auc: 0.825999\n",
      "[90]\tvalid_0's auc: 0.826241\n",
      "[91]\tvalid_0's auc: 0.8267\n",
      "[92]\tvalid_0's auc: 0.827046\n",
      "[93]\tvalid_0's auc: 0.82734\n",
      "[94]\tvalid_0's auc: 0.82823\n",
      "[95]\tvalid_0's auc: 0.828499\n",
      "[96]\tvalid_0's auc: 0.829007\n",
      "[97]\tvalid_0's auc: 0.829149\n",
      "[98]\tvalid_0's auc: 0.828526\n",
      "[99]\tvalid_0's auc: 0.829026\n",
      "[100]\tvalid_0's auc: 0.828582\n",
      "[101]\tvalid_0's auc: 0.828517\n",
      "[102]\tvalid_0's auc: 0.828297\n",
      "[103]\tvalid_0's auc: 0.82948\n",
      "[104]\tvalid_0's auc: 0.829991\n",
      "[105]\tvalid_0's auc: 0.829764\n",
      "[106]\tvalid_0's auc: 0.829558\n",
      "[107]\tvalid_0's auc: 0.829704\n",
      "[108]\tvalid_0's auc: 0.829696\n",
      "[109]\tvalid_0's auc: 0.82948\n",
      "[110]\tvalid_0's auc: 0.829818\n",
      "[111]\tvalid_0's auc: 0.830095\n",
      "[112]\tvalid_0's auc: 0.830746\n",
      "[113]\tvalid_0's auc: 0.831249\n",
      "[114]\tvalid_0's auc: 0.830591\n",
      "[115]\tvalid_0's auc: 0.831473\n",
      "[116]\tvalid_0's auc: 0.831785\n",
      "[117]\tvalid_0's auc: 0.832756\n",
      "[118]\tvalid_0's auc: 0.832868\n",
      "[119]\tvalid_0's auc: 0.833008\n",
      "[120]\tvalid_0's auc: 0.833156\n",
      "[121]\tvalid_0's auc: 0.833788\n",
      "[122]\tvalid_0's auc: 0.834041\n",
      "[123]\tvalid_0's auc: 0.833732\n",
      "[124]\tvalid_0's auc: 0.833302\n",
      "[125]\tvalid_0's auc: 0.832992\n",
      "[126]\tvalid_0's auc: 0.832824\n",
      "[127]\tvalid_0's auc: 0.833074\n",
      "[128]\tvalid_0's auc: 0.832768\n",
      "[129]\tvalid_0's auc: 0.83248\n",
      "[130]\tvalid_0's auc: 0.832581\n",
      "[131]\tvalid_0's auc: 0.833159\n",
      "[132]\tvalid_0's auc: 0.833392\n",
      "[133]\tvalid_0's auc: 0.833531\n",
      "[134]\tvalid_0's auc: 0.833076\n",
      "[135]\tvalid_0's auc: 0.833432\n",
      "[136]\tvalid_0's auc: 0.833467\n",
      "[137]\tvalid_0's auc: 0.833941\n",
      "[138]\tvalid_0's auc: 0.83401\n",
      "[139]\tvalid_0's auc: 0.834678\n",
      "[140]\tvalid_0's auc: 0.835005\n",
      "[141]\tvalid_0's auc: 0.835142\n",
      "[142]\tvalid_0's auc: 0.835604\n",
      "[143]\tvalid_0's auc: 0.835689\n",
      "[144]\tvalid_0's auc: 0.836149\n",
      "[145]\tvalid_0's auc: 0.836691\n",
      "[146]\tvalid_0's auc: 0.836557\n",
      "[147]\tvalid_0's auc: 0.836609\n",
      "[148]\tvalid_0's auc: 0.836802\n",
      "[149]\tvalid_0's auc: 0.836982\n",
      "[150]\tvalid_0's auc: 0.837291\n",
      "[151]\tvalid_0's auc: 0.837241\n",
      "[152]\tvalid_0's auc: 0.837152\n",
      "[153]\tvalid_0's auc: 0.83775\n",
      "[154]\tvalid_0's auc: 0.837591\n",
      "[155]\tvalid_0's auc: 0.838052\n",
      "[156]\tvalid_0's auc: 0.838261\n",
      "[157]\tvalid_0's auc: 0.83856\n",
      "[158]\tvalid_0's auc: 0.838821\n",
      "[159]\tvalid_0's auc: 0.839203\n",
      "[160]\tvalid_0's auc: 0.839793\n",
      "[161]\tvalid_0's auc: 0.83984\n",
      "[162]\tvalid_0's auc: 0.83972\n",
      "[163]\tvalid_0's auc: 0.840008\n",
      "[164]\tvalid_0's auc: 0.840132\n",
      "[165]\tvalid_0's auc: 0.840482\n",
      "[166]\tvalid_0's auc: 0.840622\n",
      "[167]\tvalid_0's auc: 0.840972\n",
      "[168]\tvalid_0's auc: 0.841329\n",
      "[169]\tvalid_0's auc: 0.840922\n",
      "[170]\tvalid_0's auc: 0.841128\n",
      "[171]\tvalid_0's auc: 0.841574\n",
      "Did not meet early stopping. Best iteration is:\n",
      "[171]\tvalid_0's auc: 0.841574\n"
     ]
    }
   ],
   "source": [
    "lgb_dataset = lgb.Dataset(X_train, label = y_train)\n",
    "#lgb_dataset1 = lgb.Dataset(X, label = y  )\n",
    "lgbV_dataset = lgb.Dataset(X_valid, label = y_valid, reference=lgb_dataset)\n",
    "params = {}\n",
    "params['learning_rate'] = 0.025\n",
    "params['objective'] = 'binary'\n",
    "params['boosting_type'] = 'gbdt'\n",
    "params['metric'] = 'AUC'\n",
    "params['max_depth'] = -1\n",
    "params['feature_fraction'] = 0.04\n",
    "params['min_data_in_leaf'] = 100\n",
    "params['num_leaves'] = 8\n",
    "#params['sub_feature'] = 0.5\n",
    "#clf = lgb.cv(params,lgb_dataset1,num_boost_round = 10000,nfold=10,early_stopping_rounds=100)\n",
    "clf = lgb.train(params,lgb_dataset,num_boost_round = 171,valid_sets=lgbV_dataset,early_stopping_rounds=100)"
   ]
  },
  {
   "cell_type": "code",
   "execution_count": 55,
   "metadata": {},
   "outputs": [],
   "source": [
    "Xtest  = Test.drop(['ID_code'] , axis = 1)"
   ]
  },
  {
   "cell_type": "code",
   "execution_count": 56,
   "metadata": {
    "scrolled": true
   },
   "outputs": [],
   "source": [
    "Test_prediction = clf.predict(Xtest)"
   ]
  },
  {
   "cell_type": "code",
   "execution_count": 57,
   "metadata": {},
   "outputs": [],
   "source": [
    "sub = pd.DataFrame()\n",
    "sub['ID_code'] = Test['ID_code']\n",
    "sub['target'] = Test_prediction\n",
    "sub.to_csv('results.csv', index=False)"
   ]
  },
  {
   "cell_type": "code",
   "execution_count": 58,
   "metadata": {},
   "outputs": [
    {
     "data": {
      "text/plain": [
       "array([0.1154145 , 0.13395208, 0.10964975, ..., 0.07297648, 0.11290271,\n",
       "       0.10327974])"
      ]
     },
     "execution_count": 58,
     "metadata": {},
     "output_type": "execute_result"
    }
   ],
   "source": [
    "Test_prediction"
   ]
  },
  {
   "cell_type": "code",
   "execution_count": 59,
   "metadata": {},
   "outputs": [],
   "source": [
    "from sklearn.metrics import roc_curve, auc"
   ]
  },
  {
   "cell_type": "code",
   "execution_count": 60,
   "metadata": {},
   "outputs": [
    {
     "data": {
      "text/plain": [
       "0.8415737389818678"
      ]
     },
     "execution_count": 60,
     "metadata": {},
     "output_type": "execute_result"
    }
   ],
   "source": [
    "ypred = clf.predict(X_valid)\n",
    "false_positive_rate, true_positive_rate, thresholds = roc_curve(y_valid, ypred)\n",
    "roc_auc = auc(false_positive_rate, true_positive_rate)\n",
    "roc_auc"
   ]
  },
  {
   "cell_type": "code",
   "execution_count": 61,
   "metadata": {
    "scrolled": true
   },
   "outputs": [
    {
     "data": {
      "text/plain": [
       "Text(0.5, 0, 'False Positive Rate')"
      ]
     },
     "execution_count": 61,
     "metadata": {},
     "output_type": "execute_result"
    },
    {
     "data": {
      "image/png": "[encoded data removed]",
      "text/plain": [
       "<Figure size 720x720 with 1 Axes>"
      ]
     },
     "metadata": {
      "needs_background": "light"
     },
     "output_type": "display_data"
    }
   ],
   "source": [
    "plt.figure(figsize=(10,10))\n",
    "plt.title('Receiver Operating Characteristic')\n",
    "plt.plot(false_positive_rate,true_positive_rate, color='red',label = 'AUC = %0.2f' % roc_auc)\n",
    "plt.legend(loc = 'lower right')\n",
    "plt.plot([0, 1], [0, 1],linestyle='--')\n",
    "plt.axis('tight')\n",
    "plt.ylabel('True Positive Rate')\n",
    "plt.xlabel('False Positive Rate')"
   ]
  },
  {
   "cell_type": "code",
   "execution_count": 62,
   "metadata": {},
   "outputs": [],
   "source": [
    "from sklearn.metrics import classification_report"
   ]
  },
  {
   "cell_type": "code",
   "execution_count": 63,
   "metadata": {
    "scrolled": true
   },
   "outputs": [
    {
     "data": {
      "text/plain": [
       "Text(0, 0.5, 'Frequency')"
      ]
     },
     "execution_count": 63,
     "metadata": {},
     "output_type": "execute_result"
    },
    {
     "data": {
      "image/png": "[encoded data removed]",
      "text/plain": [
       "<Figure size 432x288 with 1 Axes>"
      ]
     },
     "metadata": {
      "needs_background": "light"
     },
     "output_type": "display_data"
    }
   ],
   "source": [
    "mlp.hist(ypred , bins=8)\n",
    "mlp.xlim(0,1)\n",
    "mlp.title(\"Histogram of predicted probability\")\n",
    "mlp.xlabel(\"Predected probability of Default\")\n",
    "mlp.ylabel(\"Frequency\")"
   ]
  },
  {
   "cell_type": "code",
   "execution_count": 64,
   "metadata": {},
   "outputs": [],
   "source": [
    "from sklearn.preprocessing import binarize"
   ]
  },
  {
   "cell_type": "code",
   "execution_count": 65,
   "metadata": {},
   "outputs": [
    {
     "name": "stderr",
     "output_type": "stream",
     "text": [
      "C:\\Users\\kumarvch\\AppData\\Local\\Continuum\\anaconda3\\lib\\site-packages\\sklearn\\utils\\validation.py:71: FutureWarning: Pass threshold=0.2 as keyword args. From version 0.25 passing these as positional arguments will result in an error\n",
      "  FutureWarning)\n"
     ]
    }
   ],
   "source": [
    "ypred_class = binarize([ypred] ,0.2)[0]"
   ]
  },
  {
   "cell_type": "code",
   "execution_count": 66,
   "metadata": {},
   "outputs": [
    {
     "name": "stdout",
     "output_type": "stream",
     "text": [
      "              precision    recall  f1-score   support\n",
      "\n",
      "         0.0       1.00      0.90      0.95     39827\n",
      "         1.0       0.04      0.90      0.07       173\n",
      "\n",
      "    accuracy                           0.90     40000\n",
      "   macro avg       0.52      0.90      0.51     40000\n",
      "weighted avg       1.00      0.90      0.95     40000\n",
      "\n"
     ]
    }
   ],
   "source": [
    "print(classification_report(ypred_class , y_valid))"
   ]
  },
  {
   "cell_type": "code",
   "execution_count": 67,
   "metadata": {},
   "outputs": [
    {
     "data": {
      "text/html": [
       "<div>\n",
       "<style scoped>\n",
       "    .dataframe tbody tr th:only-of-type {\n",
       "        vertical-align: middle;\n",
       "    }\n",
       "\n",
       "    .dataframe tbody tr th {\n",
       "        vertical-align: top;\n",
       "    }\n",
       "\n",
       "    .dataframe thead th {\n",
       "        text-align: right;\n",
       "    }\n",
       "</style>\n",
       "<table border=\"1\" class=\"dataframe\">\n",
       "  <thead>\n",
       "    <tr style=\"text-align: right;\">\n",
       "      <th>target</th>\n",
       "      <th>0</th>\n",
       "      <th>1</th>\n",
       "    </tr>\n",
       "    <tr>\n",
       "      <th>row_0</th>\n",
       "      <th></th>\n",
       "      <th></th>\n",
       "    </tr>\n",
       "  </thead>\n",
       "  <tbody>\n",
       "    <tr>\n",
       "      <td>0.0</td>\n",
       "      <td>35968</td>\n",
       "      <td>3859</td>\n",
       "    </tr>\n",
       "    <tr>\n",
       "      <td>1.0</td>\n",
       "      <td>18</td>\n",
       "      <td>155</td>\n",
       "    </tr>\n",
       "  </tbody>\n",
       "</table>\n",
       "</div>"
      ],
      "text/plain": [
       "target      0     1\n",
       "row_0              \n",
       "0.0     35968  3859\n",
       "1.0        18   155"
      ]
     },
     "execution_count": 67,
     "metadata": {},
     "output_type": "execute_result"
    }
   ],
   "source": [
    "CM=pd.crosstab(ypred_class , y_valid)\n",
    "CM"
   ]
  },
  {
   "cell_type": "code",
   "execution_count": 68,
   "metadata": {},
   "outputs": [],
   "source": [
    "TP = CM.iloc[1,1]\n",
    "TN = CM.iloc[0,0]\n",
    "FP = CM.iloc[0,1]\n",
    "FN = CM.iloc[1,0]"
   ]
  },
  {
   "cell_type": "code",
   "execution_count": 69,
   "metadata": {},
   "outputs": [],
   "source": [
    "#Classification Accuracy: Overall, how often is the classifier correct?\n",
    "from sklearn import metrics"
   ]
  },
  {
   "cell_type": "code",
   "execution_count": 70,
   "metadata": {},
   "outputs": [
    {
     "name": "stdout",
     "output_type": "stream",
     "text": [
      "0.903075\n",
      "0.903075\n"
     ]
    }
   ],
   "source": [
    "print((TP + TN) / float(TP + TN + FP + FN))\n",
    "print(metrics.accuracy_score(y_valid, ypred_class))"
   ]
  },
  {
   "cell_type": "code",
   "execution_count": 71,
   "metadata": {},
   "outputs": [],
   "source": [
    "#sensitivity or recall score or true positive rate\n",
    "#When the actual value is positive, how often is the prediction correct?"
   ]
  },
  {
   "cell_type": "code",
   "execution_count": 72,
   "metadata": {},
   "outputs": [],
   "source": [
    "from sklearn.metrics import precision_score ,recall_score"
   ]
  },
  {
   "cell_type": "code",
   "execution_count": 73,
   "metadata": {},
   "outputs": [
    {
     "name": "stdout",
     "output_type": "stream",
     "text": [
      "0.8959537572254336\n",
      "0.8959537572254336\n"
     ]
    }
   ],
   "source": [
    "print(TP / (TP+FN))\n",
    "\n",
    "print(recall_score(ypred_class , y_valid))"
   ]
  },
  {
   "cell_type": "code",
   "execution_count": null,
   "metadata": {},
   "outputs": [],
   "source": []
  }
 ],
 "metadata": {
  "kernelspec": {
   "display_name": "Python 3",
   "language": "python",
   "name": "python3"
  },
  "language_info": {
   "codemirror_mode": {
    "name": "ipython",
    "version": 3
   },
   "file_extension": ".py",
   "mimetype": "text/x-python",
   "name": "python",
   "nbconvert_exporter": "python",
   "pygments_lexer": "ipython3",
   "version": "3.7.4"
  }
 },
 "nbformat": 4,
 "nbformat_minor": 2
}
